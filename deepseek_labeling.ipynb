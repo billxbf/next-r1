{
 "cells": [
  {
   "cell_type": "code",
   "execution_count": 1,
   "metadata": {},
   "outputs": [
    {
     "data": {
      "text/html": [
       "<div>\n",
       "<style scoped>\n",
       "    .dataframe tbody tr th:only-of-type {\n",
       "        vertical-align: middle;\n",
       "    }\n",
       "\n",
       "    .dataframe tbody tr th {\n",
       "        vertical-align: top;\n",
       "    }\n",
       "\n",
       "    .dataframe thead th {\n",
       "        text-align: right;\n",
       "    }\n",
       "</style>\n",
       "<table border=\"1\" class=\"dataframe\">\n",
       "  <thead>\n",
       "    <tr style=\"text-align: right;\">\n",
       "      <th></th>\n",
       "      <th>problem</th>\n",
       "      <th>answer</th>\n",
       "      <th>claude_solution</th>\n",
       "    </tr>\n",
       "  </thead>\n",
       "  <tbody>\n",
       "    <tr>\n",
       "      <th>0</th>\n",
       "      <td>When the roots of the polynomial\\n\\[P(x)  = (x...</td>\n",
       "      <td>6</td>\n",
       "      <td></td>\n",
       "    </tr>\n",
       "    <tr>\n",
       "      <th>1</th>\n",
       "      <td>In equiangular octagon $CAROLINE$ $CA = RO = L...</td>\n",
       "      <td>23</td>\n",
       "      <td></td>\n",
       "    </tr>\n",
       "    <tr>\n",
       "      <th>2</th>\n",
       "      <td>In convex quadrilateral $KLMN$ , side $\\overli...</td>\n",
       "      <td>90</td>\n",
       "      <td></td>\n",
       "    </tr>\n",
       "    <tr>\n",
       "      <th>3</th>\n",
       "      <td>The sum \\[\\frac{1}{2!}+\\frac{2}{3!}+\\frac{3}{4...</td>\n",
       "      <td>2023</td>\n",
       "      <td></td>\n",
       "    </tr>\n",
       "    <tr>\n",
       "      <th>4</th>\n",
       "      <td>In triangle $ABC$ , $AB=\\sqrt{30}$ , $AC=\\sqrt...</td>\n",
       "      <td>65</td>\n",
       "      <td></td>\n",
       "    </tr>\n",
       "    <tr>\n",
       "      <th>...</th>\n",
       "      <td>...</td>\n",
       "      <td>...</td>\n",
       "      <td>...</td>\n",
       "    </tr>\n",
       "    <tr>\n",
       "      <th>1753</th>\n",
       "      <td>Suppose that the sum of the squares of two com...</td>\n",
       "      <td>4</td>\n",
       "      <td>&lt;think&gt;\\nLet's denote $x + y = s$ (the sum of ...</td>\n",
       "    </tr>\n",
       "    <tr>\n",
       "      <th>1754</th>\n",
       "      <td>Let $a_n=6^{n}+8^{n}$ . Determine the remainde...</td>\n",
       "      <td>35</td>\n",
       "      <td>&lt;think&gt;\\nLet's try to find a pattern in the se...</td>\n",
       "    </tr>\n",
       "    <tr>\n",
       "      <th>1755</th>\n",
       "      <td>Twenty five of King Arthur's knights are seate...</td>\n",
       "      <td>57</td>\n",
       "      <td>&lt;think&gt;\\nLet me think about this problem step ...</td>\n",
       "    </tr>\n",
       "    <tr>\n",
       "      <th>1756</th>\n",
       "      <td>What is the largest $2$ -digit prime factor of...</td>\n",
       "      <td>61</td>\n",
       "      <td></td>\n",
       "    </tr>\n",
       "    <tr>\n",
       "      <th>1757</th>\n",
       "      <td>Find the minimum value of $\\frac{9x^2\\sin^2 x ...</td>\n",
       "      <td>12</td>\n",
       "      <td>&lt;think&gt;\\nLet's define the function $f(x) = \\fr...</td>\n",
       "    </tr>\n",
       "  </tbody>\n",
       "</table>\n",
       "<p>1758 rows × 3 columns</p>\n",
       "</div>"
      ],
      "text/plain": [
       "                                                problem  answer  \\\n",
       "0     When the roots of the polynomial\\n\\[P(x)  = (x...       6   \n",
       "1     In equiangular octagon $CAROLINE$ $CA = RO = L...      23   \n",
       "2     In convex quadrilateral $KLMN$ , side $\\overli...      90   \n",
       "3     The sum \\[\\frac{1}{2!}+\\frac{2}{3!}+\\frac{3}{4...    2023   \n",
       "4     In triangle $ABC$ , $AB=\\sqrt{30}$ , $AC=\\sqrt...      65   \n",
       "...                                                 ...     ...   \n",
       "1753  Suppose that the sum of the squares of two com...       4   \n",
       "1754  Let $a_n=6^{n}+8^{n}$ . Determine the remainde...      35   \n",
       "1755  Twenty five of King Arthur's knights are seate...      57   \n",
       "1756  What is the largest $2$ -digit prime factor of...      61   \n",
       "1757  Find the minimum value of $\\frac{9x^2\\sin^2 x ...      12   \n",
       "\n",
       "                                        claude_solution  \n",
       "0                                                        \n",
       "1                                                        \n",
       "2                                                        \n",
       "3                                                        \n",
       "4                                                        \n",
       "...                                                 ...  \n",
       "1753  <think>\\nLet's denote $x + y = s$ (the sum of ...  \n",
       "1754  <think>\\nLet's try to find a pattern in the se...  \n",
       "1755  <think>\\nLet me think about this problem step ...  \n",
       "1756                                                     \n",
       "1757  <think>\\nLet's define the function $f(x) = \\fr...  \n",
       "\n",
       "[1758 rows x 3 columns]"
      ]
     },
     "execution_count": 1,
     "metadata": {},
     "output_type": "execute_result"
    }
   ],
   "source": [
    "import pandas as pd\n",
    "from utils import *\n",
    "from api.deepseek_api import *\n",
    "import os\n",
    "\n",
    "os.environ[\"DEEPSEEK_API_KEY\"] = \"sk-639edf487aa6480285367374f3bae6be\"\n",
    "\n",
    "df = pd.read_parquet(\"/home/billxbf/workspace/next-r1/data/hard1750.parquet\")\n",
    "df"
   ]
  },
  {
   "cell_type": "markdown",
   "metadata": {},
   "source": [
    "## EN 8K"
   ]
  },
  {
   "cell_type": "code",
   "execution_count": 2,
   "metadata": {},
   "outputs": [],
   "source": [
    "EN8K_PROMPT = \"\"\"Solve the following math problem in flash mode. The final answer should be an integer.\n",
    "```\n",
    "{problem}\n",
    "```\n",
    "Time limit is short, so think quickly and write up succinctly.\n",
    "After thinking, diretly claim your answer with \"The answer is ...\" without explanation. Put your final answer within \\\\boxed{{}}. \n",
    "\"\"\"\n",
    "\n",
    "prompts = [EN8K_PROMPT.format(problem=prob) for prob in df[\"problem\"]]\n",
    "answers = df[\"answer\"].tolist()"
   ]
  },
  {
   "cell_type": "code",
   "execution_count": 5,
   "metadata": {},
   "outputs": [
    {
     "name": "stdout",
     "output_type": "stream",
     "text": [
      ">> Generating 1758 instructions with batch size 4...\n"
     ]
    },
    {
     "name": "stderr",
     "output_type": "stream",
     "text": [
      "  0%|          | 0/440 [00:00<?, ?it/s]"
     ]
    }
   ],
   "source": [
    "res = generate_batch(prompts, batch_size=4, estimate=False, save_intermediate=False)"
   ]
  },
  {
   "cell_type": "code",
   "execution_count": null,
   "metadata": {},
   "outputs": [],
   "source": []
  }
 ],
 "metadata": {
  "kernelspec": {
   "display_name": "torch",
   "language": "python",
   "name": "python3"
  },
  "language_info": {
   "codemirror_mode": {
    "name": "ipython",
    "version": 3
   },
   "file_extension": ".py",
   "mimetype": "text/x-python",
   "name": "python",
   "nbconvert_exporter": "python",
   "pygments_lexer": "ipython3",
   "version": "3.8.0"
  }
 },
 "nbformat": 4,
 "nbformat_minor": 2
}
